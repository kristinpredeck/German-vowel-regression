{
 "cells": [
  {
   "cell_type": "code",
   "execution_count": 1,
   "metadata": {},
   "outputs": [],
   "source": [
    "#import libraries \n",
    "import pandas as pd\n",
    "import matplotlib.pylab as plt\n",
    "import numpy as np\n",
    "import seaborn as sns\n",
    "%matplotlib inline \n",
    "from sklearn.linear_model import LinearRegression\n",
    "from sklearn.metrics import mean_squared_error\n",
    "from sklearn.linear_model import LinearRegression\n",
    "from matplotlib import pyplot as plt"
   ]
  },
  {
   "cell_type": "markdown",
   "metadata": {},
   "source": [
    "# Read in data and check for missing values"
   ]
  },
  {
   "cell_type": "code",
   "execution_count": 2,
   "metadata": {},
   "outputs": [
    {
     "data": {
      "text/html": [
       "<div>\n",
       "<style scoped>\n",
       "    .dataframe tbody tr th:only-of-type {\n",
       "        vertical-align: middle;\n",
       "    }\n",
       "\n",
       "    .dataframe tbody tr th {\n",
       "        vertical-align: top;\n",
       "    }\n",
       "\n",
       "    .dataframe thead th {\n",
       "        text-align: right;\n",
       "    }\n",
       "</style>\n",
       "<table border=\"1\" class=\"dataframe\">\n",
       "  <thead>\n",
       "    <tr style=\"text-align: right;\">\n",
       "      <th></th>\n",
       "      <th>ID</th>\n",
       "      <th>vowel</th>\n",
       "      <th>file</th>\n",
       "      <th>f0</th>\n",
       "      <th>duration</th>\n",
       "      <th>f11</th>\n",
       "      <th>f21</th>\n",
       "      <th>f31</th>\n",
       "      <th>f41</th>\n",
       "      <th>f12</th>\n",
       "      <th>...</th>\n",
       "      <th>Unnamed: 38</th>\n",
       "      <th>Unnamed: 39</th>\n",
       "      <th>Unnamed: 40</th>\n",
       "      <th>Unnamed: 41</th>\n",
       "      <th>Unnamed: 42</th>\n",
       "      <th>Unnamed: 43</th>\n",
       "      <th>Unnamed: 44</th>\n",
       "      <th>Unnamed: 45</th>\n",
       "      <th>Unnamed: 46</th>\n",
       "      <th>Unnamed: 47</th>\n",
       "    </tr>\n",
       "  </thead>\n",
       "  <tbody>\n",
       "    <tr>\n",
       "      <th>0</th>\n",
       "      <td>1</td>\n",
       "      <td>a</td>\n",
       "      <td>AK28a</td>\n",
       "      <td>95.4</td>\n",
       "      <td>0.124</td>\n",
       "      <td>619</td>\n",
       "      <td>1863</td>\n",
       "      <td>2450</td>\n",
       "      <td>3427</td>\n",
       "      <td>611</td>\n",
       "      <td>...</td>\n",
       "      <td>NaN</td>\n",
       "      <td>NaN</td>\n",
       "      <td>NaN</td>\n",
       "      <td>NaN</td>\n",
       "      <td>NaN</td>\n",
       "      <td>NaN</td>\n",
       "      <td>NaN</td>\n",
       "      <td>NaN</td>\n",
       "      <td>NaN</td>\n",
       "      <td>NaN</td>\n",
       "    </tr>\n",
       "    <tr>\n",
       "      <th>1</th>\n",
       "      <td>1</td>\n",
       "      <td>a</td>\n",
       "      <td>AK28a2</td>\n",
       "      <td>97.3</td>\n",
       "      <td>0.080</td>\n",
       "      <td>594</td>\n",
       "      <td>1979</td>\n",
       "      <td>2565</td>\n",
       "      <td>3341</td>\n",
       "      <td>592</td>\n",
       "      <td>...</td>\n",
       "      <td>NaN</td>\n",
       "      <td>NaN</td>\n",
       "      <td>NaN</td>\n",
       "      <td>NaN</td>\n",
       "      <td>NaN</td>\n",
       "      <td>NaN</td>\n",
       "      <td>NaN</td>\n",
       "      <td>NaN</td>\n",
       "      <td>NaN</td>\n",
       "      <td>NaN</td>\n",
       "    </tr>\n",
       "    <tr>\n",
       "      <th>2</th>\n",
       "      <td>1</td>\n",
       "      <td>a</td>\n",
       "      <td>AK28a3</td>\n",
       "      <td>105.8</td>\n",
       "      <td>0.096</td>\n",
       "      <td>517</td>\n",
       "      <td>1916</td>\n",
       "      <td>2703</td>\n",
       "      <td>3882</td>\n",
       "      <td>515</td>\n",
       "      <td>...</td>\n",
       "      <td>NaN</td>\n",
       "      <td>NaN</td>\n",
       "      <td>NaN</td>\n",
       "      <td>NaN</td>\n",
       "      <td>NaN</td>\n",
       "      <td>NaN</td>\n",
       "      <td>NaN</td>\n",
       "      <td>NaN</td>\n",
       "      <td>NaN</td>\n",
       "      <td>NaN</td>\n",
       "    </tr>\n",
       "    <tr>\n",
       "      <th>3</th>\n",
       "      <td>1</td>\n",
       "      <td>e</td>\n",
       "      <td>AK28e</td>\n",
       "      <td>136.9</td>\n",
       "      <td>0.122</td>\n",
       "      <td>335</td>\n",
       "      <td>2147</td>\n",
       "      <td>2966</td>\n",
       "      <td>3567</td>\n",
       "      <td>351</td>\n",
       "      <td>...</td>\n",
       "      <td>NaN</td>\n",
       "      <td>NaN</td>\n",
       "      <td>NaN</td>\n",
       "      <td>NaN</td>\n",
       "      <td>NaN</td>\n",
       "      <td>NaN</td>\n",
       "      <td>NaN</td>\n",
       "      <td>NaN</td>\n",
       "      <td>NaN</td>\n",
       "      <td>NaN</td>\n",
       "    </tr>\n",
       "    <tr>\n",
       "      <th>4</th>\n",
       "      <td>1</td>\n",
       "      <td>e</td>\n",
       "      <td>AK28e2</td>\n",
       "      <td>116.6</td>\n",
       "      <td>0.150</td>\n",
       "      <td>385</td>\n",
       "      <td>2204</td>\n",
       "      <td>2745</td>\n",
       "      <td>3358</td>\n",
       "      <td>340</td>\n",
       "      <td>...</td>\n",
       "      <td>NaN</td>\n",
       "      <td>NaN</td>\n",
       "      <td>NaN</td>\n",
       "      <td>NaN</td>\n",
       "      <td>NaN</td>\n",
       "      <td>NaN</td>\n",
       "      <td>NaN</td>\n",
       "      <td>NaN</td>\n",
       "      <td>NaN</td>\n",
       "      <td>NaN</td>\n",
       "    </tr>\n",
       "  </tbody>\n",
       "</table>\n",
       "<p>5 rows × 48 columns</p>\n",
       "</div>"
      ],
      "text/plain": [
       "   ID vowel    file     f0  duration  f11   f21   f31   f41  f12  ...  \\\n",
       "0   1     a   AK28a   95.4     0.124  619  1863  2450  3427  611  ...   \n",
       "1   1     a  AK28a2   97.3     0.080  594  1979  2565  3341  592  ...   \n",
       "2   1     a  AK28a3  105.8     0.096  517  1916  2703  3882  515  ...   \n",
       "3   1     e   AK28e  136.9     0.122  335  2147  2966  3567  351  ...   \n",
       "4   1     e  AK28e2  116.6     0.150  385  2204  2745  3358  340  ...   \n",
       "\n",
       "   Unnamed: 38  Unnamed: 39  Unnamed: 40  Unnamed: 41  Unnamed: 42  \\\n",
       "0          NaN          NaN          NaN          NaN          NaN   \n",
       "1          NaN          NaN          NaN          NaN          NaN   \n",
       "2          NaN          NaN          NaN          NaN          NaN   \n",
       "3          NaN          NaN          NaN          NaN          NaN   \n",
       "4          NaN          NaN          NaN          NaN          NaN   \n",
       "\n",
       "   Unnamed: 43  Unnamed: 44  Unnamed: 45  Unnamed: 46  Unnamed: 47  \n",
       "0          NaN          NaN          NaN          NaN          NaN  \n",
       "1          NaN          NaN          NaN          NaN          NaN  \n",
       "2          NaN          NaN          NaN          NaN          NaN  \n",
       "3          NaN          NaN          NaN          NaN          NaN  \n",
       "4          NaN          NaN          NaN          NaN          NaN  \n",
       "\n",
       "[5 rows x 48 columns]"
      ]
     },
     "execution_count": 2,
     "metadata": {},
     "output_type": "execute_result"
    }
   ],
   "source": [
    "df = pd.read_csv(\"combined.csv\")\n",
    "df.head()"
   ]
  },
  {
   "cell_type": "code",
   "execution_count": 3,
   "metadata": {
    "scrolled": false
   },
   "outputs": [
    {
     "name": "stdout",
     "output_type": "stream",
     "text": [
      "ID\n",
      "False    232\n",
      "Name: ID, dtype: int64\n",
      "\n",
      "vowel\n",
      "False    232\n",
      "Name: vowel, dtype: int64\n",
      "\n",
      "file\n",
      "False    232\n",
      "Name: file, dtype: int64\n",
      "\n",
      "f0\n",
      "False    232\n",
      "Name: f0, dtype: int64\n",
      "\n",
      "duration\n",
      "False    232\n",
      "Name: duration, dtype: int64\n",
      "\n",
      "f11\n",
      "False    232\n",
      "Name: f11, dtype: int64\n",
      "\n",
      "f21\n",
      "False    232\n",
      "Name: f21, dtype: int64\n",
      "\n",
      "f31\n",
      "False    232\n",
      "Name: f31, dtype: int64\n",
      "\n",
      "f41\n",
      "False    232\n",
      "Name: f41, dtype: int64\n",
      "\n",
      "f12\n",
      "False    232\n",
      "Name: f12, dtype: int64\n",
      "\n",
      "f22\n",
      "False    232\n",
      "Name: f22, dtype: int64\n",
      "\n",
      "f32\n",
      "False    232\n",
      "Name: f32, dtype: int64\n",
      "\n",
      "f42\n",
      "False    232\n",
      "Name: f42, dtype: int64\n",
      "\n",
      "f13\n",
      "False    232\n",
      "Name: f13, dtype: int64\n",
      "\n",
      "f23\n",
      "False    232\n",
      "Name: f23, dtype: int64\n",
      "\n",
      "f33\n",
      "False    232\n",
      "Name: f33, dtype: int64\n",
      "\n",
      "f43\n",
      "False    232\n",
      "Name: f43, dtype: int64\n",
      "\n",
      "f14\n",
      "False    232\n",
      "Name: f14, dtype: int64\n",
      "\n",
      "f24\n",
      "False    232\n",
      "Name: f24, dtype: int64\n",
      "\n",
      "f34\n",
      "False    232\n",
      "Name: f34, dtype: int64\n",
      "\n",
      "f44\n",
      "False    232\n",
      "Name: f44, dtype: int64\n",
      "\n",
      "f15\n",
      "False    232\n",
      "Name: f15, dtype: int64\n",
      "\n",
      "f25\n",
      "False    232\n",
      "Name: f25, dtype: int64\n",
      "\n",
      "f35\n",
      "False    232\n",
      "Name: f35, dtype: int64\n",
      "\n",
      "f45\n",
      "False    232\n",
      "Name: f45, dtype: int64\n",
      "\n",
      "Unnamed: 25\n",
      "True     231\n",
      "False      1\n",
      "Name: Unnamed: 25, dtype: int64\n",
      "\n",
      "Unnamed: 26\n",
      "True     231\n",
      "False      1\n",
      "Name: Unnamed: 26, dtype: int64\n",
      "\n",
      "Unnamed: 27\n",
      "True     231\n",
      "False      1\n",
      "Name: Unnamed: 27, dtype: int64\n",
      "\n",
      "Unnamed: 28\n",
      "True     231\n",
      "False      1\n",
      "Name: Unnamed: 28, dtype: int64\n",
      "\n",
      "Unnamed: 29\n",
      "True     231\n",
      "False      1\n",
      "Name: Unnamed: 29, dtype: int64\n",
      "\n",
      "Unnamed: 30\n",
      "True     231\n",
      "False      1\n",
      "Name: Unnamed: 30, dtype: int64\n",
      "\n",
      "Unnamed: 31\n",
      "True     231\n",
      "False      1\n",
      "Name: Unnamed: 31, dtype: int64\n",
      "\n",
      "Unnamed: 32\n",
      "True     231\n",
      "False      1\n",
      "Name: Unnamed: 32, dtype: int64\n",
      "\n",
      "Unnamed: 33\n",
      "True     231\n",
      "False      1\n",
      "Name: Unnamed: 33, dtype: int64\n",
      "\n",
      "Unnamed: 34\n",
      "True     231\n",
      "False      1\n",
      "Name: Unnamed: 34, dtype: int64\n",
      "\n",
      "Unnamed: 35\n",
      "True     231\n",
      "False      1\n",
      "Name: Unnamed: 35, dtype: int64\n",
      "\n",
      "Unnamed: 36\n",
      "True     231\n",
      "False      1\n",
      "Name: Unnamed: 36, dtype: int64\n",
      "\n",
      "Unnamed: 37\n",
      "True     231\n",
      "False      1\n",
      "Name: Unnamed: 37, dtype: int64\n",
      "\n",
      "Unnamed: 38\n",
      "True     231\n",
      "False      1\n",
      "Name: Unnamed: 38, dtype: int64\n",
      "\n",
      "Unnamed: 39\n",
      "True     231\n",
      "False      1\n",
      "Name: Unnamed: 39, dtype: int64\n",
      "\n",
      "Unnamed: 40\n",
      "True     231\n",
      "False      1\n",
      "Name: Unnamed: 40, dtype: int64\n",
      "\n",
      "Unnamed: 41\n",
      "True     231\n",
      "False      1\n",
      "Name: Unnamed: 41, dtype: int64\n",
      "\n",
      "Unnamed: 42\n",
      "True     231\n",
      "False      1\n",
      "Name: Unnamed: 42, dtype: int64\n",
      "\n",
      "Unnamed: 43\n",
      "True     231\n",
      "False      1\n",
      "Name: Unnamed: 43, dtype: int64\n",
      "\n",
      "Unnamed: 44\n",
      "True     231\n",
      "False      1\n",
      "Name: Unnamed: 44, dtype: int64\n",
      "\n",
      "Unnamed: 45\n",
      "True     231\n",
      "False      1\n",
      "Name: Unnamed: 45, dtype: int64\n",
      "\n",
      "Unnamed: 46\n",
      "True     231\n",
      "False      1\n",
      "Name: Unnamed: 46, dtype: int64\n",
      "\n",
      "Unnamed: 47\n",
      "True     231\n",
      "False      1\n",
      "Name: Unnamed: 47, dtype: int64\n",
      "\n"
     ]
    }
   ],
   "source": [
    "#check for missing data\n",
    "missing_data = df.isnull()\n",
    "for column in missing_data.columns.values.tolist():\n",
    "    print(column)\n",
    "    print (missing_data[column].value_counts())\n",
    "    print(\"\")"
   ]
  },
  {
   "cell_type": "markdown",
   "metadata": {},
   "source": [
    "# Aggregate data by speaker and vowel"
   ]
  },
  {
   "cell_type": "code",
   "execution_count": 4,
   "metadata": {
    "scrolled": true
   },
   "outputs": [
    {
     "name": "stderr",
     "output_type": "stream",
     "text": [
      "/Users/kristinpredeck/opt/anaconda3/lib/python3.7/site-packages/ipykernel_launcher.py:2: FutureWarning: Indexing with multiple keys (implicitly converted to a tuple of keys) will be deprecated, use a list instead.\n",
      "  \n"
     ]
    },
    {
     "data": {
      "text/html": [
       "<div>\n",
       "<style scoped>\n",
       "    .dataframe tbody tr th:only-of-type {\n",
       "        vertical-align: middle;\n",
       "    }\n",
       "\n",
       "    .dataframe tbody tr th {\n",
       "        vertical-align: top;\n",
       "    }\n",
       "\n",
       "    .dataframe thead th {\n",
       "        text-align: right;\n",
       "    }\n",
       "</style>\n",
       "<table border=\"1\" class=\"dataframe\">\n",
       "  <thead>\n",
       "    <tr style=\"text-align: right;\">\n",
       "      <th></th>\n",
       "      <th>ID</th>\n",
       "      <th>vowel</th>\n",
       "      <th>f0</th>\n",
       "      <th>f11</th>\n",
       "      <th>f21</th>\n",
       "      <th>f31</th>\n",
       "      <th>f41</th>\n",
       "      <th>duration</th>\n",
       "    </tr>\n",
       "  </thead>\n",
       "  <tbody>\n",
       "    <tr>\n",
       "      <th>0</th>\n",
       "      <td>1</td>\n",
       "      <td>a</td>\n",
       "      <td>99.500000</td>\n",
       "      <td>576.666667</td>\n",
       "      <td>1919.333333</td>\n",
       "      <td>2572.666667</td>\n",
       "      <td>3550.000000</td>\n",
       "      <td>0.100000</td>\n",
       "    </tr>\n",
       "    <tr>\n",
       "      <th>1</th>\n",
       "      <td>1</td>\n",
       "      <td>e</td>\n",
       "      <td>126.750000</td>\n",
       "      <td>360.000000</td>\n",
       "      <td>2175.500000</td>\n",
       "      <td>2855.500000</td>\n",
       "      <td>3462.500000</td>\n",
       "      <td>0.136000</td>\n",
       "    </tr>\n",
       "    <tr>\n",
       "      <th>2</th>\n",
       "      <td>2</td>\n",
       "      <td>a</td>\n",
       "      <td>133.133333</td>\n",
       "      <td>478.333333</td>\n",
       "      <td>1743.666667</td>\n",
       "      <td>2783.000000</td>\n",
       "      <td>3986.000000</td>\n",
       "      <td>0.172000</td>\n",
       "    </tr>\n",
       "    <tr>\n",
       "      <th>3</th>\n",
       "      <td>2</td>\n",
       "      <td>e</td>\n",
       "      <td>152.033333</td>\n",
       "      <td>395.666667</td>\n",
       "      <td>2030.333333</td>\n",
       "      <td>2610.666667</td>\n",
       "      <td>3542.333333</td>\n",
       "      <td>0.168667</td>\n",
       "    </tr>\n",
       "    <tr>\n",
       "      <th>4</th>\n",
       "      <td>3</td>\n",
       "      <td>a</td>\n",
       "      <td>110.000000</td>\n",
       "      <td>576.333333</td>\n",
       "      <td>1789.666667</td>\n",
       "      <td>2524.666667</td>\n",
       "      <td>3641.333333</td>\n",
       "      <td>0.214667</td>\n",
       "    </tr>\n",
       "  </tbody>\n",
       "</table>\n",
       "</div>"
      ],
      "text/plain": [
       "   ID vowel          f0         f11          f21          f31          f41  \\\n",
       "0   1     a   99.500000  576.666667  1919.333333  2572.666667  3550.000000   \n",
       "1   1     e  126.750000  360.000000  2175.500000  2855.500000  3462.500000   \n",
       "2   2     a  133.133333  478.333333  1743.666667  2783.000000  3986.000000   \n",
       "3   2     e  152.033333  395.666667  2030.333333  2610.666667  3542.333333   \n",
       "4   3     a  110.000000  576.333333  1789.666667  2524.666667  3641.333333   \n",
       "\n",
       "   duration  \n",
       "0  0.100000  \n",
       "1  0.136000  \n",
       "2  0.172000  \n",
       "3  0.168667  \n",
       "4  0.214667  "
      ]
     },
     "execution_count": 4,
     "metadata": {},
     "output_type": "execute_result"
    }
   ],
   "source": [
    "#aggregate\n",
    "df_means_vowels = df.groupby(['ID', 'vowel'], as_index=False)['f0', 'f11', 'f21', 'f31', 'f41', 'duration'].mean()\n",
    "df_means_vowels.head()"
   ]
  },
  {
   "cell_type": "markdown",
   "metadata": {},
   "source": [
    "# Visualize data"
   ]
  },
  {
   "cell_type": "code",
   "execution_count": 17,
   "metadata": {},
   "outputs": [
    {
     "data": {
      "text/plain": [
       "<seaborn.axisgrid.FacetGrid at 0x7f9eeff16e50>"
      ]
     },
     "execution_count": 17,
     "metadata": {},
     "output_type": "execute_result"
    },
    {
     "data": {
      "image/png": "[encoded data removed]",
      "text/plain": [
       "<Figure size 402.375x360 with 1 Axes>"
      ]
     },
     "metadata": {
      "needs_background": "light"
     },
     "output_type": "display_data"
    }
   ],
   "source": [
    "#make vowel plot \n",
    "ax = sns.lmplot( x=\"f11\", y=\"f21\", data=df_means_vowels, hue='vowel', legend=True)\n",
    "ax.set(xlabel='F1 in Hz', ylabel='F2 in Hz')"
   ]
  },
  {
   "cell_type": "code",
   "execution_count": 31,
   "metadata": {},
   "outputs": [
    {
     "data": {
      "image/png": "[encoded data removed]",
      "text/plain": [
       "<Figure size 432x288 with 1 Axes>"
      ]
     },
     "metadata": {
      "needs_background": "light"
     },
     "output_type": "display_data"
    }
   ],
   "source": [
    "#make  plot for f0\n",
    "f0 = sns.boxplot(x=\"vowel\", y=\"f0\",data=df_means_vowels, palette=\"Set3\")"
   ]
  },
  {
   "cell_type": "code",
   "execution_count": 30,
   "metadata": {
    "scrolled": true
   },
   "outputs": [
    {
     "data": {
      "image/png": "[encoded data removed]",
      "text/plain": [
       "<Figure size 432x288 with 1 Axes>"
      ]
     },
     "metadata": {
      "needs_background": "light"
     },
     "output_type": "display_data"
    }
   ],
   "source": [
    "#make  plot for duration\n",
    "dur = sns.boxplot(x=\"vowel\", y=\"duration\",data=df_means_vowels, palette=\"Set3\")"
   ]
  },
  {
   "cell_type": "markdown",
   "metadata": {},
   "source": [
    "# Convert categorical variable to numeric values for regression"
   ]
  },
  {
   "cell_type": "code",
   "execution_count": 9,
   "metadata": {},
   "outputs": [],
   "source": [
    "#replace categorical variable with numeric values\n",
    "df_means_vowels['vowel'].replace(to_replace=['a','e'], value=[0,1],inplace=True)"
   ]
  },
  {
   "cell_type": "code",
   "execution_count": 10,
   "metadata": {
    "scrolled": false
   },
   "outputs": [
    {
     "data": {
      "text/html": [
       "<div>\n",
       "<style scoped>\n",
       "    .dataframe tbody tr th:only-of-type {\n",
       "        vertical-align: middle;\n",
       "    }\n",
       "\n",
       "    .dataframe tbody tr th {\n",
       "        vertical-align: top;\n",
       "    }\n",
       "\n",
       "    .dataframe thead th {\n",
       "        text-align: right;\n",
       "    }\n",
       "</style>\n",
       "<table border=\"1\" class=\"dataframe\">\n",
       "  <thead>\n",
       "    <tr style=\"text-align: right;\">\n",
       "      <th></th>\n",
       "      <th>ID</th>\n",
       "      <th>vowel</th>\n",
       "      <th>f0</th>\n",
       "      <th>f11</th>\n",
       "      <th>f21</th>\n",
       "      <th>f31</th>\n",
       "      <th>f41</th>\n",
       "      <th>duration</th>\n",
       "    </tr>\n",
       "  </thead>\n",
       "  <tbody>\n",
       "    <tr>\n",
       "      <th>0</th>\n",
       "      <td>1</td>\n",
       "      <td>0</td>\n",
       "      <td>99.500000</td>\n",
       "      <td>576.666667</td>\n",
       "      <td>1919.333333</td>\n",
       "      <td>2572.666667</td>\n",
       "      <td>3550.000000</td>\n",
       "      <td>0.100000</td>\n",
       "    </tr>\n",
       "    <tr>\n",
       "      <th>1</th>\n",
       "      <td>1</td>\n",
       "      <td>1</td>\n",
       "      <td>126.750000</td>\n",
       "      <td>360.000000</td>\n",
       "      <td>2175.500000</td>\n",
       "      <td>2855.500000</td>\n",
       "      <td>3462.500000</td>\n",
       "      <td>0.136000</td>\n",
       "    </tr>\n",
       "    <tr>\n",
       "      <th>2</th>\n",
       "      <td>2</td>\n",
       "      <td>0</td>\n",
       "      <td>133.133333</td>\n",
       "      <td>478.333333</td>\n",
       "      <td>1743.666667</td>\n",
       "      <td>2783.000000</td>\n",
       "      <td>3986.000000</td>\n",
       "      <td>0.172000</td>\n",
       "    </tr>\n",
       "    <tr>\n",
       "      <th>3</th>\n",
       "      <td>2</td>\n",
       "      <td>1</td>\n",
       "      <td>152.033333</td>\n",
       "      <td>395.666667</td>\n",
       "      <td>2030.333333</td>\n",
       "      <td>2610.666667</td>\n",
       "      <td>3542.333333</td>\n",
       "      <td>0.168667</td>\n",
       "    </tr>\n",
       "    <tr>\n",
       "      <th>4</th>\n",
       "      <td>3</td>\n",
       "      <td>0</td>\n",
       "      <td>110.000000</td>\n",
       "      <td>576.333333</td>\n",
       "      <td>1789.666667</td>\n",
       "      <td>2524.666667</td>\n",
       "      <td>3641.333333</td>\n",
       "      <td>0.214667</td>\n",
       "    </tr>\n",
       "  </tbody>\n",
       "</table>\n",
       "</div>"
      ],
      "text/plain": [
       "   ID  vowel          f0         f11          f21          f31          f41  \\\n",
       "0   1      0   99.500000  576.666667  1919.333333  2572.666667  3550.000000   \n",
       "1   1      1  126.750000  360.000000  2175.500000  2855.500000  3462.500000   \n",
       "2   2      0  133.133333  478.333333  1743.666667  2783.000000  3986.000000   \n",
       "3   2      1  152.033333  395.666667  2030.333333  2610.666667  3542.333333   \n",
       "4   3      0  110.000000  576.333333  1789.666667  2524.666667  3641.333333   \n",
       "\n",
       "   duration  \n",
       "0  0.100000  \n",
       "1  0.136000  \n",
       "2  0.172000  \n",
       "3  0.168667  \n",
       "4  0.214667  "
      ]
     },
     "execution_count": 10,
     "metadata": {},
     "output_type": "execute_result"
    }
   ],
   "source": [
    "df_means_vowels.head()"
   ]
  },
  {
   "cell_type": "code",
   "execution_count": 18,
   "metadata": {},
   "outputs": [],
   "source": [
    "df_means_vowels.to_csv(\"vowelmeans.csv\")"
   ]
  },
  {
   "cell_type": "markdown",
   "metadata": {},
   "source": [
    "# Build regression"
   ]
  },
  {
   "cell_type": "code",
   "execution_count": 10,
   "metadata": {},
   "outputs": [],
   "source": [
    "#build multiple linear regression\n",
    "lm = LinearRegression()\n",
    "Z = df_means_vowels[['f11', 'f21', 'f31', 'f41', 'f0', 'duration']]\n",
    "Y = df_means_vowels['vowel']"
   ]
  },
  {
   "cell_type": "code",
   "execution_count": 11,
   "metadata": {},
   "outputs": [],
   "source": [
    "multiple = lm.fit(Z, Y)"
   ]
  },
  {
   "cell_type": "code",
   "execution_count": 12,
   "metadata": {},
   "outputs": [
    {
     "name": "stdout",
     "output_type": "stream",
     "text": [
      "The R-square is:  0.6960716998527969\n"
     ]
    }
   ],
   "source": [
    "print('The R-square is: ', lm.score(Z, df_means_vowels['vowel']))"
   ]
  },
  {
   "cell_type": "code",
   "execution_count": 13,
   "metadata": {},
   "outputs": [
    {
     "name": "stdout",
     "output_type": "stream",
     "text": [
      "The mean square error of vowel and predicted vowel using multifit is:  0.07598207503680077\n"
     ]
    }
   ],
   "source": [
    "Y_predict_multifit = lm.predict(Z)\n",
    "print('The mean square error of vowel and predicted vowel using multifit is: ', \\\n",
    "      mean_squared_error(df_means_vowels['vowel'], Y_predict_multifit))"
   ]
  },
  {
   "cell_type": "code",
   "execution_count": 14,
   "metadata": {},
   "outputs": [
    {
     "data": {
      "text/plain": [
       "1.105525776450226"
      ]
     },
     "execution_count": 14,
     "metadata": {},
     "output_type": "execute_result"
    }
   ],
   "source": [
    "lm.intercept_"
   ]
  },
  {
   "cell_type": "code",
   "execution_count": 15,
   "metadata": {},
   "outputs": [
    {
     "data": {
      "text/plain": [
       "array([-2.63430489e-03,  3.69821736e-04,  1.84819133e-04, -2.41036640e-04,\n",
       "        2.30201968e-03, -8.23041683e-01])"
      ]
     },
     "execution_count": 15,
     "metadata": {},
     "output_type": "execute_result"
    }
   ],
   "source": [
    "lm.coef_"
   ]
  },
  {
   "cell_type": "code",
   "execution_count": 16,
   "metadata": {},
   "outputs": [],
   "source": [
    "from statsmodels.regression.linear_model import OLS\n",
    "from statsmodels.tools.tools import add_constant\n",
    "\n",
    "#find out which variables are showing multicollinearity \n",
    "def variance_inflation_factors(exog_df):\n",
    "    '''\n",
    "    Parameters\n",
    "    ----------\n",
    "    exog_df : dataframe, (nobs, k_vars)\n",
    "        design matrix with all explanatory variables, as for example used in\n",
    "        regression.\n",
    "\n",
    "    Returns\n",
    "    -------\n",
    "    vif : Series\n",
    "        variance inflation factors\n",
    "    '''\n",
    "    exog_df = add_constant(exog_df)\n",
    "    vifs = pd.Series(\n",
    "        [1 / (1. - OLS(exog_df[col].values, \n",
    "                       exog_df.loc[:, exog_df.columns != col].values).fit().rsquared) \n",
    "         for col in exog_df],\n",
    "        index=exog_df.columns,\n",
    "        name='VIF'\n",
    "    )\n",
    "    return vifs"
   ]
  },
  {
   "cell_type": "code",
   "execution_count": 17,
   "metadata": {
    "scrolled": false
   },
   "outputs": [
    {
     "data": {
      "text/plain": [
       "const       192.425031\n",
       "ID            2.389469\n",
       "vowel         3.298214\n",
       "f0            3.453914\n",
       "f11           3.268881\n",
       "f21           5.001538\n",
       "f31           6.161916\n",
       "f41           3.486565\n",
       "duration      1.180577\n",
       "Name: VIF, dtype: float64"
      ]
     },
     "execution_count": 17,
     "metadata": {},
     "output_type": "execute_result"
    }
   ],
   "source": [
    "#show VIF values \n",
    "variance_inflation_factors(df_means_vowels)"
   ]
  },
  {
   "cell_type": "code",
   "execution_count": 18,
   "metadata": {},
   "outputs": [
    {
     "data": {
      "text/html": [
       "<div>\n",
       "<style scoped>\n",
       "    .dataframe tbody tr th:only-of-type {\n",
       "        vertical-align: middle;\n",
       "    }\n",
       "\n",
       "    .dataframe tbody tr th {\n",
       "        vertical-align: top;\n",
       "    }\n",
       "\n",
       "    .dataframe thead th {\n",
       "        text-align: right;\n",
       "    }\n",
       "</style>\n",
       "<table border=\"1\" class=\"dataframe\">\n",
       "  <thead>\n",
       "    <tr style=\"text-align: right;\">\n",
       "      <th></th>\n",
       "      <th>ID</th>\n",
       "      <th>vowel</th>\n",
       "      <th>f0</th>\n",
       "      <th>f11</th>\n",
       "      <th>f21</th>\n",
       "      <th>f31</th>\n",
       "      <th>f41</th>\n",
       "      <th>duration</th>\n",
       "    </tr>\n",
       "  </thead>\n",
       "  <tbody>\n",
       "    <tr>\n",
       "      <th>ID</th>\n",
       "      <td>1.000000</td>\n",
       "      <td>0.000000</td>\n",
       "      <td>0.718283</td>\n",
       "      <td>0.289483</td>\n",
       "      <td>0.454878</td>\n",
       "      <td>0.421857</td>\n",
       "      <td>0.480027</td>\n",
       "      <td>0.090082</td>\n",
       "    </tr>\n",
       "    <tr>\n",
       "      <th>vowel</th>\n",
       "      <td>0.000000</td>\n",
       "      <td>1.000000</td>\n",
       "      <td>0.193483</td>\n",
       "      <td>-0.748405</td>\n",
       "      <td>0.513652</td>\n",
       "      <td>0.419382</td>\n",
       "      <td>0.075236</td>\n",
       "      <td>-0.145756</td>\n",
       "    </tr>\n",
       "    <tr>\n",
       "      <th>f0</th>\n",
       "      <td>0.718283</td>\n",
       "      <td>0.193483</td>\n",
       "      <td>1.000000</td>\n",
       "      <td>0.169158</td>\n",
       "      <td>0.627818</td>\n",
       "      <td>0.655989</td>\n",
       "      <td>0.605952</td>\n",
       "      <td>0.190300</td>\n",
       "    </tr>\n",
       "    <tr>\n",
       "      <th>f11</th>\n",
       "      <td>0.289483</td>\n",
       "      <td>-0.748405</td>\n",
       "      <td>0.169158</td>\n",
       "      <td>1.000000</td>\n",
       "      <td>-0.294494</td>\n",
       "      <td>-0.193023</td>\n",
       "      <td>0.126260</td>\n",
       "      <td>0.158915</td>\n",
       "    </tr>\n",
       "    <tr>\n",
       "      <th>f21</th>\n",
       "      <td>0.454878</td>\n",
       "      <td>0.513652</td>\n",
       "      <td>0.627818</td>\n",
       "      <td>-0.294494</td>\n",
       "      <td>1.000000</td>\n",
       "      <td>0.857577</td>\n",
       "      <td>0.665095</td>\n",
       "      <td>0.135631</td>\n",
       "    </tr>\n",
       "    <tr>\n",
       "      <th>f31</th>\n",
       "      <td>0.421857</td>\n",
       "      <td>0.419382</td>\n",
       "      <td>0.655989</td>\n",
       "      <td>-0.193023</td>\n",
       "      <td>0.857577</td>\n",
       "      <td>1.000000</td>\n",
       "      <td>0.774261</td>\n",
       "      <td>0.102099</td>\n",
       "    </tr>\n",
       "    <tr>\n",
       "      <th>f41</th>\n",
       "      <td>0.480027</td>\n",
       "      <td>0.075236</td>\n",
       "      <td>0.605952</td>\n",
       "      <td>0.126260</td>\n",
       "      <td>0.665095</td>\n",
       "      <td>0.774261</td>\n",
       "      <td>1.000000</td>\n",
       "      <td>0.264445</td>\n",
       "    </tr>\n",
       "    <tr>\n",
       "      <th>duration</th>\n",
       "      <td>0.090082</td>\n",
       "      <td>-0.145756</td>\n",
       "      <td>0.190300</td>\n",
       "      <td>0.158915</td>\n",
       "      <td>0.135631</td>\n",
       "      <td>0.102099</td>\n",
       "      <td>0.264445</td>\n",
       "      <td>1.000000</td>\n",
       "    </tr>\n",
       "  </tbody>\n",
       "</table>\n",
       "</div>"
      ],
      "text/plain": [
       "                ID     vowel        f0       f11       f21       f31  \\\n",
       "ID        1.000000  0.000000  0.718283  0.289483  0.454878  0.421857   \n",
       "vowel     0.000000  1.000000  0.193483 -0.748405  0.513652  0.419382   \n",
       "f0        0.718283  0.193483  1.000000  0.169158  0.627818  0.655989   \n",
       "f11       0.289483 -0.748405  0.169158  1.000000 -0.294494 -0.193023   \n",
       "f21       0.454878  0.513652  0.627818 -0.294494  1.000000  0.857577   \n",
       "f31       0.421857  0.419382  0.655989 -0.193023  0.857577  1.000000   \n",
       "f41       0.480027  0.075236  0.605952  0.126260  0.665095  0.774261   \n",
       "duration  0.090082 -0.145756  0.190300  0.158915  0.135631  0.102099   \n",
       "\n",
       "               f41  duration  \n",
       "ID        0.480027  0.090082  \n",
       "vowel     0.075236 -0.145756  \n",
       "f0        0.605952  0.190300  \n",
       "f11       0.126260  0.158915  \n",
       "f21       0.665095  0.135631  \n",
       "f31       0.774261  0.102099  \n",
       "f41       1.000000  0.264445  \n",
       "duration  0.264445  1.000000  "
      ]
     },
     "execution_count": 18,
     "metadata": {},
     "output_type": "execute_result"
    }
   ],
   "source": [
    "df_means_vowels.corr(method='pearson')"
   ]
  },
  {
   "cell_type": "code",
   "execution_count": 51,
   "metadata": {},
   "outputs": [],
   "source": [
    "#import packages \n",
    "import statsmodels.api as sm\n",
    "from patsy import dmatrices\n",
    "\n",
    "#build model\n",
    "y, X = dmatrices('vowel ~ f11 + f21 + f31 + f41 + f0 + duration', data=df_means_vowels, return_type='dataframe')"
   ]
  },
  {
   "cell_type": "code",
   "execution_count": 52,
   "metadata": {
    "scrolled": true
   },
   "outputs": [
    {
     "name": "stdout",
     "output_type": "stream",
     "text": [
      "                            OLS Regression Results                            \n",
      "==============================================================================\n",
      "Dep. Variable:                  vowel   R-squared:                       0.696\n",
      "Model:                            OLS   Adj. R-squared:                  0.670\n",
      "Method:                 Least Squares   F-statistic:                     27.10\n",
      "Date:                Wed, 15 Jul 2020   Prob (F-statistic):           1.48e-16\n",
      "Time:                        12:12:08   Log-Likelihood:                -10.164\n",
      "No. Observations:                  78   AIC:                             34.33\n",
      "Df Residuals:                      71   BIC:                             50.83\n",
      "Df Model:                           6                                         \n",
      "Covariance Type:            nonrobust                                         \n",
      "==============================================================================\n",
      "                 coef    std err          t      P>|t|      [0.025      0.975]\n",
      "------------------------------------------------------------------------------\n",
      "Intercept      1.1055      0.428      2.584      0.012       0.252       1.959\n",
      "f11           -0.0026      0.000     -7.763      0.000      -0.003      -0.002\n",
      "f21            0.0004      0.000      1.538      0.129      -0.000       0.001\n",
      "f31            0.0002      0.000      0.683      0.497      -0.000       0.001\n",
      "f41           -0.0002      0.000     -1.550      0.126      -0.001    6.91e-05\n",
      "f0             0.0023      0.001      2.276      0.026       0.000       0.004\n",
      "duration      -0.8230      0.773     -1.065      0.291      -2.365       0.719\n",
      "==============================================================================\n",
      "Omnibus:                        1.547   Durbin-Watson:                   2.632\n",
      "Prob(Omnibus):                  0.461   Jarque-Bera (JB):                1.033\n",
      "Skew:                          -0.264   Prob(JB):                        0.597\n",
      "Kurtosis:                       3.200   Cond. No.                     1.23e+05\n",
      "==============================================================================\n",
      "\n",
      "Warnings:\n",
      "[1] Standard Errors assume that the covariance matrix of the errors is correctly specified.\n",
      "[2] The condition number is large, 1.23e+05. This might indicate that there are\n",
      "strong multicollinearity or other numerical problems.\n"
     ]
    }
   ],
   "source": [
    "#describe model\n",
    "mod = sm.OLS(y, X)\n",
    "\n",
    "#fit model\n",
    "res = mod.fit()       \n",
    "\n",
    "#print summary\n",
    "print(res.summary())   "
   ]
  },
  {
   "cell_type": "code",
   "execution_count": 53,
   "metadata": {
    "scrolled": true
   },
   "outputs": [
    {
     "data": {
      "text/plain": [
       "Intercept    1.105526\n",
       "f11         -0.002634\n",
       "f21          0.000370\n",
       "f31          0.000185\n",
       "f41         -0.000241\n",
       "f0           0.002302\n",
       "duration    -0.823042\n",
       "dtype: float64"
      ]
     },
     "execution_count": 53,
     "metadata": {},
     "output_type": "execute_result"
    }
   ],
   "source": [
    "res.params"
   ]
  },
  {
   "cell_type": "markdown",
   "metadata": {},
   "source": [
    "# Make predictions "
   ]
  },
  {
   "cell_type": "code",
   "execution_count": 28,
   "metadata": {},
   "outputs": [
    {
     "name": "stderr",
     "output_type": "stream",
     "text": [
      "/Users/kristinpredeck/opt/anaconda3/lib/python3.7/site-packages/IPython/html.py:14: ShimWarning: The `IPython.html` package has been deprecated since IPython 4.0. You should import from `notebook` instead. `IPython.html.widgets` has moved to `ipywidgets`.\n",
      "  \"`IPython.html.widgets` has moved to `ipywidgets`.\", ShimWarning)\n"
     ]
    }
   ],
   "source": [
    "#split data to predict vowels using our predictors\n",
    "from IPython.display import display\n",
    "from IPython.html import widgets \n",
    "from IPython.display import display\n",
    "from ipywidgets import interact, interactive, fixed, interact_manual"
   ]
  },
  {
   "cell_type": "code",
   "execution_count": 29,
   "metadata": {},
   "outputs": [],
   "source": [
    "\n",
    "def DistributionPlot(RedFunction, BlueFunction, RedName, BlueName, Title):\n",
    "    width = 12\n",
    "    height = 10\n",
    "    plt.figure(figsize=(width, height))\n",
    "\n",
    "    ax1 = sns.distplot(RedFunction, hist=False, color=\"r\", label=RedName)\n",
    "    ax2 = sns.distplot(BlueFunction, hist=False, color=\"b\", label=BlueName, ax=ax1)\n",
    "\n",
    "    plt.title(Title)\n",
    "    plt.xlabel('Vowel')\n",
    "    plt.ylabel('Proportion of Vowels')\n",
    "\n",
    "    plt.show()\n",
    "    plt.close()"
   ]
  },
  {
   "cell_type": "code",
   "execution_count": null,
   "metadata": {},
   "outputs": [],
   "source": [
    "def PollyPlot(xtrain, xtest, y_train, y_test, lr,poly_transform):\n",
    "    width = 12\n",
    "    height = 10\n",
    "    plt.figure(figsize=(width, height))\n",
    "    \n",
    "    \n",
    "    #training data \n",
    "    #testing data \n",
    "    # lr:  linear regression object \n",
    "    #poly_transform:  polynomial transformation object \n",
    " \n",
    "    xmax=max([xtrain.values.max(), xtest.values.max()])\n",
    "\n",
    "    xmin=min([xtrain.values.min(), xtest.values.min()])\n",
    "\n",
    "    x=np.arange(xmin, xmax, 0.1)\n",
    "\n",
    "\n",
    "    plt.plot(xtrain, y_train, 'ro', label='Training Data')\n",
    "    plt.plot(xtest, y_test, 'go', label='Test Data')\n",
    "    plt.plot(x, lr.predict(poly_transform.fit_transform(x.reshape(-1, 1))), label='Predicted Function')\n",
    "    plt.ylim([-10000, 60000])\n",
    "    plt.ylabel('Height')\n",
    "    plt.legend()"
   ]
  },
  {
   "cell_type": "code",
   "execution_count": 30,
   "metadata": {},
   "outputs": [],
   "source": [
    "y_data = df_means_vowels['vowel']\n",
    "x_data=df_means_vowels.drop('vowel',axis=1)"
   ]
  },
  {
   "cell_type": "code",
   "execution_count": 31,
   "metadata": {},
   "outputs": [
    {
     "name": "stdout",
     "output_type": "stream",
     "text": [
      "number of test samples : 12\n",
      "number of training samples: 66\n"
     ]
    }
   ],
   "source": [
    "from sklearn.model_selection import train_test_split\n",
    "\n",
    "\n",
    "x_train, x_test, y_train, y_test = train_test_split(x_data, y_data, test_size=0.15, random_state=1)\n",
    "\n",
    "\n",
    "print(\"number of test samples :\", x_test.shape[0])\n",
    "print(\"number of training samples:\",x_train.shape[0])"
   ]
  },
  {
   "cell_type": "code",
   "execution_count": 32,
   "metadata": {},
   "outputs": [
    {
     "data": {
      "text/plain": [
       "LinearRegression(copy_X=True, fit_intercept=True, n_jobs=None, normalize=False)"
      ]
     },
     "execution_count": 32,
     "metadata": {},
     "output_type": "execute_result"
    }
   ],
   "source": [
    "lr = LinearRegression()\n",
    "lr.fit(x_train[['f11', 'f21', 'f31', 'f41', 'f0', 'duration']], y_train)"
   ]
  },
  {
   "cell_type": "code",
   "execution_count": 33,
   "metadata": {},
   "outputs": [
    {
     "data": {
      "text/plain": [
       "array([0.23790828, 0.8647071 , 0.25892798, 0.119326  , 1.07159285])"
      ]
     },
     "execution_count": 33,
     "metadata": {},
     "output_type": "execute_result"
    }
   ],
   "source": [
    "#Prediction using training data:\n",
    "\n",
    "yhat_train = lr.predict(x_train[['f11', 'f21', 'f31', 'f41', 'f0', 'duration']])\n",
    "yhat_train[0:5]"
   ]
  },
  {
   "cell_type": "code",
   "execution_count": 34,
   "metadata": {},
   "outputs": [
    {
     "data": {
      "text/plain": [
       "array([0.13012876, 0.8494715 , 0.10236263, 0.78504549, 0.91327351])"
      ]
     },
     "execution_count": 34,
     "metadata": {},
     "output_type": "execute_result"
    }
   ],
   "source": [
    "#Prediction using test data:\n",
    "\n",
    "yhat_test = lr.predict(x_test[['f11', 'f21', 'f31', 'f41', 'f0', 'duration']])\n",
    "yhat_test[0:5]"
   ]
  },
  {
   "cell_type": "code",
   "execution_count": 35,
   "metadata": {},
   "outputs": [
    {
     "data": {
      "image/png": "[encoded data removed]",
      "text/plain": [
       "<Figure size 864x720 with 1 Axes>"
      ]
     },
     "metadata": {
      "needs_background": "light"
     },
     "output_type": "display_data"
    }
   ],
   "source": [
    "#examine the distribution of the predicted values of the training data.\n",
    "\n",
    "Title = 'Distribution  Plot of  Predicted Value Using Training Data vs Training Data Distribution'\n",
    "DistributionPlot(y_train, yhat_train, \"Actual Values (Train)\", \"Predicted Values (Train)\", Title)"
   ]
  },
  {
   "cell_type": "code",
   "execution_count": 36,
   "metadata": {},
   "outputs": [
    {
     "data": {
      "image/png": "[encoded data removed]",
      "text/plain": [
       "<Figure size 864x720 with 1 Axes>"
      ]
     },
     "metadata": {
      "needs_background": "light"
     },
     "output_type": "display_data"
    }
   ],
   "source": [
    "#what happens when the model encounters new data from the testing dataset? es.\n",
    "\n",
    "Title='Distribution  Plot of  Predicted Value Using Test Data vs Data Distribution of Test Data'\n",
    "DistributionPlot(y_test,yhat_test,\"Actual Values (Test)\",\"Predicted Values (Test)\",Title)"
   ]
  },
  {
   "cell_type": "markdown",
   "metadata": {},
   "source": [
    "# Logistic Regression"
   ]
  },
  {
   "cell_type": "code",
   "execution_count": 19,
   "metadata": {},
   "outputs": [
    {
     "name": "stdout",
     "output_type": "stream",
     "text": [
      "Optimization terminated successfully.\n",
      "         Current function value: 0.174629\n",
      "         Iterations 9\n"
     ]
    }
   ],
   "source": [
    "# importing libraries \n",
    "import statsmodels.api as sm \n",
    "import pandas as pd  \n",
    "\n",
    "# defining the dependent and independent variables \n",
    "X = df_means_vowels[['f11', 'f21', 'f31', 'f41', 'f0', 'duration']] \n",
    "y = df_means_vowels[['vowel']] \n",
    "   \n",
    "# building the model and fitting the data \n",
    "log_reg = sm.Logit(y, X).fit() \n"
   ]
  },
  {
   "cell_type": "code",
   "execution_count": 12,
   "metadata": {},
   "outputs": [
    {
     "name": "stdout",
     "output_type": "stream",
     "text": [
      "                           Logit Regression Results                           \n",
      "==============================================================================\n",
      "Dep. Variable:                  vowel   No. Observations:                   78\n",
      "Model:                          Logit   Df Residuals:                       72\n",
      "Method:                           MLE   Df Model:                            5\n",
      "Date:                Thu, 10 Dec 2020   Pseudo R-squ.:                  0.7481\n",
      "Time:                        18:53:40   Log-Likelihood:                -13.621\n",
      "converged:                       True   LL-Null:                       -54.065\n",
      "Covariance Type:            nonrobust   LLR p-value:                 5.469e-16\n",
      "==============================================================================\n",
      "                 coef    std err          z      P>|z|      [0.025      0.975]\n",
      "------------------------------------------------------------------------------\n",
      "f11           -0.0315      0.010     -3.286      0.001      -0.050      -0.013\n",
      "f21            0.0040      0.004      1.051      0.293      -0.003       0.011\n",
      "f31            0.0056      0.004      1.442      0.149      -0.002       0.013\n",
      "f41           -0.0028      0.003     -1.029      0.304      -0.008       0.003\n",
      "f0             0.0133      0.014      0.964      0.335      -0.014       0.040\n",
      "duration      -7.3995     13.679     -0.541      0.589     -34.211      19.412\n",
      "==============================================================================\n"
     ]
    }
   ],
   "source": [
    "print(log_reg.summary()) "
   ]
  },
  {
   "cell_type": "code",
   "execution_count": 29,
   "metadata": {},
   "outputs": [
    {
     "name": "stdout",
     "output_type": "stream",
     "text": [
      "                         Results: Logit\n",
      "=================================================================\n",
      "Model:              Logit            Pseudo R-squared: 0.748     \n",
      "Dependent Variable: vowel            AIC:              39.2422   \n",
      "Date:               2020-12-10 19:33 BIC:              53.3825   \n",
      "No. Observations:   78               Log-Likelihood:   -13.621   \n",
      "Df Model:           5                LL-Null:          -54.065   \n",
      "Df Residuals:       72               LLR p-value:      5.4687e-16\n",
      "Converged:          1.0000           Scale:            1.0000    \n",
      "No. Iterations:     9.0000                                       \n",
      "------------------------------------------------------------------\n",
      "              Coef.   Std.Err.     z     P>|z|    [0.025    0.975]\n",
      "------------------------------------------------------------------\n",
      "f11          -0.0315    0.0096  -3.2860  0.0010   -0.0504  -0.0127\n",
      "f21           0.0040    0.0038   1.0507  0.2934   -0.0034   0.0114\n",
      "f31           0.0056    0.0039   1.4417  0.1494   -0.0020   0.0133\n",
      "f41          -0.0028    0.0027  -1.0290  0.3035   -0.0082   0.0026\n",
      "f0            0.0133    0.0138   0.9639  0.3351   -0.0138   0.0404\n",
      "duration     -7.3995   13.6794  -0.5409  0.5886  -34.2107  19.4117\n",
      "=================================================================\n",
      "\n"
     ]
    }
   ],
   "source": [
    "print(log_reg.summary2())"
   ]
  },
  {
   "cell_type": "code",
   "execution_count": 21,
   "metadata": {},
   "outputs": [],
   "source": [
    "#Logistic Regression  for prediction\n",
    "from sklearn.linear_model import LogisticRegression\n",
    "from sklearn.metrics import confusion_matrix\n",
    "from sklearn.model_selection import train_test_split\n",
    "from sklearn import metrics\n",
    "\n",
    "X_train, X_test, y_train, y_test = train_test_split(X,y, test_size = 0.1, random_state =4, stratify=y, shuffle=True)"
   ]
  },
  {
   "cell_type": "code",
   "execution_count": 22,
   "metadata": {},
   "outputs": [
    {
     "name": "stderr",
     "output_type": "stream",
     "text": [
      "/Users/kristinpredeck/opt/anaconda3/lib/python3.7/site-packages/sklearn/utils/validation.py:760: DataConversionWarning: A column-vector y was passed when a 1d array was expected. Please change the shape of y to (n_samples, ), for example using ravel().\n",
      "  y = column_or_1d(y, warn=True)\n"
     ]
    }
   ],
   "source": [
    "#build model\n",
    "lrcom=LogisticRegression(random_state=4, multi_class='multinomial', penalty='none', solver='newton-cg').fit(X_train,y_train)"
   ]
  },
  {
   "cell_type": "code",
   "execution_count": 23,
   "metadata": {},
   "outputs": [],
   "source": [
    "#make predicted values\n",
    "y_pred=lrcom.predict(X_test)"
   ]
  },
  {
   "cell_type": "code",
   "execution_count": 25,
   "metadata": {},
   "outputs": [],
   "source": [
    "from sklearn.model_selection import LeaveOneGroupOut\n",
    "from sklearn.model_selection import cross_val_score\n",
    "from numpy import mean\n",
    "from numpy import std\n",
    "\n",
    "cv = LeaveOneGroupOut()\n",
    "group=df_means_vowels['ID']\n",
    "scoresloocom = cross_val_score(lrcom, X, y, group, scoring='accuracy', cv=cv, n_jobs=-1)"
   ]
  },
  {
   "cell_type": "code",
   "execution_count": 26,
   "metadata": {},
   "outputs": [
    {
     "name": "stdout",
     "output_type": "stream",
     "text": [
      "Accuracy for Leave One Out: 0.897 (0.202)\n"
     ]
    }
   ],
   "source": [
    "print('Accuracy for Leave One Out: %.3f (%.3f)' % (mean(scoresloocom), std(scoresloocom)))"
   ]
  },
  {
   "cell_type": "code",
   "execution_count": 27,
   "metadata": {},
   "outputs": [
    {
     "name": "stdout",
     "output_type": "stream",
     "text": [
      "              precision    recall  f1-score   support\n",
      "\n",
      "           0       1.00      1.00      1.00         4\n",
      "           1       1.00      1.00      1.00         4\n",
      "\n",
      "    accuracy                           1.00         8\n",
      "   macro avg       1.00      1.00      1.00         8\n",
      "weighted avg       1.00      1.00      1.00         8\n",
      "\n"
     ]
    }
   ],
   "source": [
    "from sklearn.metrics import classification_report\n",
    "#Create classification report\n",
    "class_report=classification_report(y_test, y_pred)\n",
    "print(class_report)"
   ]
  },
  {
   "cell_type": "code",
   "execution_count": null,
   "metadata": {},
   "outputs": [],
   "source": []
  }
 ],
 "metadata": {
  "kernelspec": {
   "display_name": "Python 3",
   "language": "python",
   "name": "python3"
  },
  "language_info": {
   "codemirror_mode": {
    "name": "ipython",
    "version": 3
   },
   "file_extension": ".py",
   "mimetype": "text/x-python",
   "name": "python",
   "nbconvert_exporter": "python",
   "pygments_lexer": "ipython3",
   "version": "3.7.6"
  }
 },
 "nbformat": 4,
 "nbformat_minor": 1
}
